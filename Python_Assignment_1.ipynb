{
 "cells": [
  {
   "cell_type": "markdown",
   "metadata": {},
   "source": [
    "# Python for Data Science - Assignment 1"
   ]
  },
  {
   "cell_type": "markdown",
   "metadata": {},
   "source": [
    "# Task 1 - Q2"
   ]
  },
  {
   "cell_type": "code",
   "execution_count": 1,
   "metadata": {},
   "outputs": [],
   "source": [
    "list1=list(range(2000,3201))\n",
    "updatedList=list()"
   ]
  },
  {
   "cell_type": "code",
   "execution_count": 2,
   "metadata": {},
   "outputs": [
    {
     "name": "stdout",
     "output_type": "stream",
     "text": [
      "2002,2009,2016,2023,2037,2044,2051,2058,2072,2079,2086,2093,2107,2114,2121,2128,2142,2149,2156,2163,2177,2184,2191,2198,2212,2219,2226,2233,2247,2254,2261,2268,2282,2289,2296,2303,2317,2324,2331,2338,2352,2359,2366,2373,2387,2394,2401,2408,2422,2429,2436,2443,2457,2464,2471,2478,2492,2499,2506,2513,2527,2534,2541,2548,2562,2569,2576,2583,2597,2604,2611,2618,2632,2639,2646,2653,2667,2674,2681,2688,2702,2709,2716,2723,2737,2744,2751,2758,2772,2779,2786,2793,2807,2814,2821,2828,2842,2849,2856,2863,2877,2884,2891,2898,2912,2919,2926,2933,2947,2954,2961,2968,2982,2989,2996,3003,3017,3024,3031,3038,3052,3059,3066,3073,3087,3094,3101,3108,3122,3129,3136,3143,3157,3164,3171,3178,3192,3199\n"
     ]
    }
   ],
   "source": [
    "for num in list1:\n",
    "    if (num%7==0) and (num%5!=0):\n",
    "        updatedList.append(str(num))\n",
    "print (','.join(updatedList))"
   ]
  },
  {
   "cell_type": "markdown",
   "metadata": {},
   "source": [
    "# Task 1 - Q3"
   ]
  },
  {
   "cell_type": "code",
   "execution_count": 5,
   "metadata": {},
   "outputs": [
    {
     "name": "stdout",
     "output_type": "stream",
     "text": [
      "First Name: \n",
      "Last Name: \n",
      "Please enter valid input\n"
     ]
    }
   ],
   "source": [
    "firstName=input(\"First Name: \")\n",
    "lastName=input(\"Last Name: \")\n",
    "fullName=firstName+\" \"+lastName\n",
    "\n",
    "if len(fullName)!=0 and len(fullName)!=1:\n",
    "    print(fullName[::-1])\n",
    "else:\n",
    "    print(\"Please enter valid input\")"
   ]
  },
  {
   "cell_type": "markdown",
   "metadata": {},
   "source": [
    "# Task 1 - Q4"
   ]
  },
  {
   "cell_type": "code",
   "execution_count": 9,
   "metadata": {},
   "outputs": [
    {
     "name": "stdout",
     "output_type": "stream",
     "text": [
      "Please enter sphere radius in number: 7\n",
      "Volume of Sphere having radius '7' is: 1436.0266666666666\n"
     ]
    }
   ],
   "source": [
    "r=int(input(\"Please enter sphere radius in number: \"))\n",
    "volume= 4/3*(3.14*r**3)\n",
    "print(\"Volume of Sphere having radius '\"+str(r)+\"' is: \"+ str(volume))"
   ]
  },
  {
   "cell_type": "markdown",
   "metadata": {},
   "source": [
    "# Task 2 - Q1"
   ]
  },
  {
   "cell_type": "code",
   "execution_count": 13,
   "metadata": {},
   "outputs": [
    {
     "name": "stdout",
     "output_type": "stream",
     "text": [
      "Please enter data seperated by comma ','123,safasf,jghjgh,2334\n",
      "Type of output data is: <class 'list'>\n",
      "['123', 'safasf', 'jghjgh', '2334']\n"
     ]
    }
   ],
   "source": [
    "userInput=input(\"Please enter data seperated by comma ','\")\n",
    "outputList=userInput.split(\",\")\n",
    "print(\"Type of output data is: \"+ str(type(outputList)))\n",
    "print(outputList)"
   ]
  },
  {
   "cell_type": "markdown",
   "metadata": {},
   "source": [
    "# Task 2 - Q2"
   ]
  },
  {
   "cell_type": "code",
   "execution_count": null,
   "metadata": {},
   "outputs": [],
   "source": [
    "#For this peice of code I google and understand the end logic of print end partmeter. Please let me know if we can use some another way to achive this.\n",
    "\n",
    "rows = int(input(\"Enter the number of rows: \"))\n",
    "for i in range(0, rows):\n",
    "    for j in range(0, i + 1):\n",
    "        print(\"*\", end='')\n",
    "    print(\" \")\n",
    "for i in range(rows, 0, -1):\n",
    "    for j in range(0, i - 1):\n",
    "        print(\"*\", end='')\n",
    "    print(\" \")"
   ]
  },
  {
   "cell_type": "markdown",
   "metadata": {},
   "source": [
    "# Task 2 - Q3"
   ]
  },
  {
   "cell_type": "code",
   "execution_count": 20,
   "metadata": {},
   "outputs": [
    {
     "name": "stdout",
     "output_type": "stream",
     "text": [
      "Please enter data: AcadGild\n",
      "Reverse of user input data is 'dliGdacA'\n"
     ]
    }
   ],
   "source": [
    "userData = input(\"Please enter data: \")\n",
    "if len(userData) != 0:\n",
    "    print(\"Reverse of user input data is '\"+userData[::-1]+\"'\")"
   ]
  },
  {
   "cell_type": "markdown",
   "metadata": {},
   "source": [
    "# Task 2 - Q4"
   ]
  },
  {
   "cell_type": "code",
   "execution_count": 21,
   "metadata": {},
   "outputs": [
    {
     "name": "stdout",
     "output_type": "stream",
     "text": [
      "WE, THE PEOPLE OF INDIA,\n",
      "      having solemnly resolved to constitute India into a SOVEREIGN, !\n",
      "            SOCIALIST, SECULAR, DEMOCRATIC REPUBLIC\n",
      "             and to secure to all its citizens\n"
     ]
    }
   ],
   "source": [
    "# I am not understanding the question. Therefore I am using string literals i.e Multiline strings. Please let me know if I am doing something wrong. Also please share correct code.\n",
    "\n",
    "stringData=\"\"\"WE, THE PEOPLE OF INDIA,\n",
    "      having solemnly resolved to constitute India into a SOVEREIGN, !\n",
    "            SOCIALIST, SECULAR, DEMOCRATIC REPUBLIC\n",
    "             and to secure to all its citizens\"\"\"\n",
    "print(stringData)"
   ]
  },
  {
   "cell_type": "code",
   "execution_count": null,
   "metadata": {},
   "outputs": [],
   "source": []
  }
 ],
 "metadata": {
  "kernelspec": {
   "display_name": "Python 3",
   "language": "python",
   "name": "python3"
  },
  "language_info": {
   "codemirror_mode": {
    "name": "ipython",
    "version": 3
   },
   "file_extension": ".py",
   "mimetype": "text/x-python",
   "name": "python",
   "nbconvert_exporter": "python",
   "pygments_lexer": "ipython3",
   "version": "3.7.4"
  }
 },
 "nbformat": 4,
 "nbformat_minor": 2
}
